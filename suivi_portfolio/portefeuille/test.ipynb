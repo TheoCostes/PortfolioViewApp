{
 "cells": [
  {
   "cell_type": "code",
   "execution_count": null,
   "metadata": {},
   "outputs": [
    {
     "ename": "",
     "evalue": "",
     "output_type": "error",
     "traceback": [
      "\u001b[1;31mRunning cells with 'portfolio' requires the ipykernel package.\n",
      "\u001b[1;31mRun the following command to install 'ipykernel' into the Python environment. \n",
      "\u001b[1;31mCommand: 'conda install -n portfolio ipykernel --update-deps --force-reinstall'"
     ]
    }
   ],
   "source": [
    "\n",
    "# Import libraries\n",
    "import json\n",
    "import os\n",
    "from datetime import datetime\n",
    "from binance.client import Client\n",
    "import requests\n",
    "\n",
    "API_KEY_C = 'eTqhqCbLFf5TkrQLixfWWewf72mK3RJBe8kcrYp6Wo0yr8BUI0qwiU3A4Q6ZgHpa'\n",
    "API_SECRET_C = '0ez0yHBn5bKGb5mB9zNwRps3WrLiEJWSgjUPp2HknEXQggi9SW6w0YmFAWUNgZo1'\n",
    "\n",
    "\n",
    "def get_crypto_prices(list_crypto, date):\n",
    "    # Initialisez le client Binance\n",
    "    client = Client(API_KEY_C, API_SECRET_C)\n",
    "\n",
    "    # Date à laquelle vous souhaitez récupérer le prix au format 'YYYY-MM-DD'\n",
    "    target_date = datetime.strptime(date, '%Y-%m-%d')\n",
    "\n",
    "    price_crypto = dict()\n",
    "    \n",
    "    for symbol in list_crypto:\n",
    "        # Obtenez les données du prix de la crypto à cette date\n",
    "        klines = client.get_historical_klines(symbol+\"USDT\", Client.KLINE_INTERVAL_1DAY, date)\n",
    "        # Parcourez les données et trouvez le prix le plus proche de la date spécifiée\n",
    "\n",
    "        for kline in klines:\n",
    "            timestamp = datetime.fromtimestamp(kline[0] / 1000)\n",
    "            if timestamp.date() == target_date.date():\n",
    "                price_crypto[symbol] = float(kline[4])  # Le prix de clôture se trouve dans l'index 4\n",
    "                break\n",
    "    return price_crypto"
   ]
  },
  {
   "cell_type": "code",
   "execution_count": 1,
   "metadata": {},
   "outputs": [],
   "source": [
    "import json"
   ]
  },
  {
   "cell_type": "code",
   "execution_count": 36,
   "metadata": {},
   "outputs": [
    {
     "name": "stdout",
     "output_type": "stream",
     "text": [
      "{'status': {'credit_count': 0,\n",
      "            'elapsed': 0,\n",
      "            'error_code': 1006,\n",
      "            'error_message': \"Your API Key subscription plan doesn't support \"\n",
      "                             'this endpoint.',\n",
      "            'timestamp': '2023-08-03T18:36:57.607Z'}}\n"
     ]
    }
   ],
   "source": [
    "from requests import Session\n",
    "import json\n",
    "import pprint\n",
    "\n",
    "# def get_crypto_prices(model, date=None): # Function to get the info\n",
    "# if not date:\n",
    "# url = 'https://pro-api.coinmarketcap.com/v2/cryptocurrency/quotes/latest' # Coinmarketcap API url\n",
    "# else:\n",
    "url = 'https://pro-api.coinmarketcap.com/v2/cryptocurrency/quotes/historical' # Coinmarketcap API url\n",
    "    \n",
    "api = '6605bbe1-9a78-423c-964a-b0587763da34' # Replace this with your API key\n",
    "\n",
    "parameters = { 'symbol': 'BTC,ETH,LINK,AVAX,MATIC,ATOM,EGLD,CAPS,UCO,HTR', 'convert': 'USD' } # API parameters to pass in for retrieving specific cryptocurrency data\n",
    "\n",
    "headers = {\n",
    "    'Accepts': 'application/json',\n",
    "    'X-CMC_PRO_API_KEY': api\n",
    "} # Headers for the API request\n",
    "\n",
    "session = Session() # Create new session object to manage API requests\n",
    "session.headers.update(headers) #Update the session headers with the specified headers\n",
    "\n",
    "response = session.get(url, params=parameters,) # Receiving the response from the API\n",
    "# print(response.content)\n",
    "# if response.status_code == 200:\n",
    "#     data = response.json()\n",
    "\n",
    "#     # Extraire les prix de la réponse JSON\n",
    "#     prices = {}\n",
    "#     for crypto_id, crypto_data in data['data'].items():\n",
    "#         price = crypto_data['quotes']['USD']['price']\n",
    "#         prices[crypto_id] = price\n",
    "\n",
    "# print(prices)\n",
    "\n",
    "info = json.loads(response.text)\n",
    "\n",
    "pprint.pprint(info) # Displaying JSON data in a visually pleasing format on the terminal for improved readability"
   ]
  },
  {
   "cell_type": "code",
   "execution_count": 34,
   "metadata": {},
   "outputs": [],
   "source": [
    "if response.status_code == 200:\n",
    "    data = response.json()\n",
    "\n",
    "    # Extraire les prix de la réponse JSON\n",
    "    prices = {}\n",
    "    for crypto_id, crypto_data in data['data'].items():\n",
    "        # print(crypto_data[0])\n",
    "        price = crypto_data[0]['quote']['USD']['price']\n",
    "        prices[crypto_id] = price"
   ]
  },
  {
   "cell_type": "code",
   "execution_count": 35,
   "metadata": {},
   "outputs": [
    {
     "data": {
      "text/plain": [
       "{'ATOM': 8.69059136490408,\n",
       " 'AVAX': 12.526843940257628,\n",
       " 'BTC': 29182.276403464188,\n",
       " 'CAPS': 0.015558161313994057,\n",
       " 'EGLD': 31.35386839337463,\n",
       " 'ETH': 1842.4260366829435,\n",
       " 'HTR': 0.04621712665799409,\n",
       " 'LINK': 7.204845266817989,\n",
       " 'MATIC': 0.6769181266596768,\n",
       " 'UCO': 0.0597116297295029}"
      ]
     },
     "execution_count": 35,
     "metadata": {},
     "output_type": "execute_result"
    }
   ],
   "source": [
    "prices"
   ]
  },
  {
   "cell_type": "code",
   "execution_count": 37,
   "metadata": {},
   "outputs": [
    {
     "name": "stdout",
     "output_type": "stream",
     "text": [
      "{'bestMatches': [{'1. symbol': 'TSCO.LON', '2. name': 'Tesco PLC', '3. type': 'Equity', '4. region': 'United Kingdom', '5. marketOpen': '08:00', '6. marketClose': '16:30', '7. timezone': 'UTC+01', '8. currency': 'GBX', '9. matchScore': '0.7273'}, {'1. symbol': 'TSCDF', '2. name': 'Tesco plc', '3. type': 'Equity', '4. region': 'United States', '5. marketOpen': '09:30', '6. marketClose': '16:00', '7. timezone': 'UTC-04', '8. currency': 'USD', '9. matchScore': '0.7143'}, {'1. symbol': 'TSCDY', '2. name': 'Tesco plc', '3. type': 'Equity', '4. region': 'United States', '5. marketOpen': '09:30', '6. marketClose': '16:00', '7. timezone': 'UTC-04', '8. currency': 'USD', '9. matchScore': '0.7143'}, {'1. symbol': 'TCO2.FRK', '2. name': 'TESCO PLC ADR/1 LS-05', '3. type': 'Equity', '4. region': 'Frankfurt', '5. marketOpen': '08:00', '6. marketClose': '20:00', '7. timezone': 'UTC+02', '8. currency': 'EUR', '9. matchScore': '0.5455'}, {'1. symbol': 'TCO0.FRK', '2. name': 'TESCO PLC LS-0633333', '3. type': 'Equity', '4. region': 'Frankfurt', '5. marketOpen': '08:00', '6. marketClose': '20:00', '7. timezone': 'UTC+02', '8. currency': 'EUR', '9. matchScore': '0.5455'}]}\n"
     ]
    }
   ],
   "source": [
    "import requests\n",
    "\n",
    "# replace the \"demo\" apikey below with your own key from https://www.alphavantage.co/support/#api-key\n",
    "api = '423OIP767ARSVKNP'\n",
    "url = 'https://www.alphavantage.co/query?function=SYMBOL_SEARCH&keywords=tesco&apikey=demo'\n",
    "r = requests.get(url)\n",
    "data = r.json()\n",
    "\n",
    "print(data)"
   ]
  },
  {
   "cell_type": "code",
   "execution_count": 5,
   "metadata": {},
   "outputs": [],
   "source": [
    "import requests\n",
    "import pandas as pd\n",
    "\n",
    "def get_daily_data(api_key, symbol):\n",
    "    \n",
    "    params = {\n",
    "        \"function\": \"GLOBAL_QUOTE\",\n",
    "        \"symbol\": symbol,\n",
    "        \"apikey\": api_key\n",
    "    }\n",
    "    api_endpoint = f\"https://www.alphavantage.co/query?\" \n",
    "    for k,v in params:\n",
    "        api_endpoint += k + '=' + v\n",
    "    print()\n",
    "    response = requests.get(api_endpoint, params=params)\n",
    "    if response.status_code == 200:\n",
    "        data = response.json()\n",
    "        # Extract the time series data from the response (assuming it's in 'Time Series (Daily)')\n",
    "        time_series_data = data.get(\"Time Series (Daily)\", {})\n",
    "        df = pd.DataFrame(time_series_data).transpose()\n",
    "        df.index = pd.to_datetime(df.index)\n",
    "        return df\n",
    "    else:\n",
    "        print(f\"Failed to get data. Status code: {response.status_code}\")\n",
    "        return None\n",
    "\n"
   ]
  },
  {
   "cell_type": "code",
   "execution_count": 6,
   "metadata": {},
   "outputs": [
    {
     "name": "stdout",
     "output_type": "stream",
     "text": [
      "Empty DataFrame\n",
      "Columns: []\n",
      "Index: []\n",
      "Empty DataFrame\n",
      "Columns: []\n",
      "Index: []\n"
     ]
    }
   ],
   "source": [
    "# Replace 'YOUR_API_KEY' and 'YOUR_SYMBOL' with the appropriate values\n",
    "API_KEY = \"423OIP767ARSVKNP\"\n",
    "SYMBOL = \"ESE.PA\"  # e.g., the ETF symbol you want to retrieve\n",
    "\n",
    "# Example usage:\n",
    "daily_data = get_daily_data(API_KEY, SYMBOL)\n",
    "print(daily_data)\n",
    "if daily_data is not None:\n",
    "    print(daily_data.head())  # Display the first few rows of data"
   ]
  },
  {
   "cell_type": "code",
   "execution_count": null,
   "metadata": {},
   "outputs": [],
   "source": []
  }
 ],
 "metadata": {
  "kernelspec": {
   "display_name": "Portfolio",
   "language": "python",
   "name": "python3"
  },
  "language_info": {
   "codemirror_mode": {
    "name": "ipython",
    "version": 3
   },
   "file_extension": ".py",
   "mimetype": "text/x-python",
   "name": "python",
   "nbconvert_exporter": "python",
   "pygments_lexer": "ipython3",
   "version": "3.11.4"
  },
  "orig_nbformat": 4
 },
 "nbformat": 4,
 "nbformat_minor": 2
}
