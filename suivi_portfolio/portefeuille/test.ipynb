{
 "cells": [
  {
   "cell_type": "code",
   "execution_count": null,
   "metadata": {},
   "outputs": [
    {
     "ename": "",
     "evalue": "",
     "output_type": "error",
     "traceback": [
      "\u001b[1;31mRunning cells with 'portfolio' requires the ipykernel package.\n",
      "\u001b[1;31mRun the following command to install 'ipykernel' into the Python environment. \n",
      "\u001b[1;31mCommand: 'conda install -n portfolio ipykernel --update-deps --force-reinstall'"
     ]
    }
   ],
   "source": [
    "\n",
    "# Import libraries\n",
    "import json\n",
    "import os\n",
    "from datetime import datetime\n",
    "from binance.client import Client\n",
    "import requests\n",
    "\n",
    "API_KEY_C = 'eTqhqCbLFf5TkrQLixfWWewf72mK3RJBe8kcrYp6Wo0yr8BUI0qwiU3A4Q6ZgHpa'\n",
    "API_SECRET_C = '0ez0yHBn5bKGb5mB9zNwRps3WrLiEJWSgjUPp2HknEXQggi9SW6w0YmFAWUNgZo1'\n",
    "\n",
    "\n",
    "def get_crypto_prices(list_crypto, date):\n",
    "    # Initialisez le client Binance\n",
    "    client = Client(API_KEY_C, API_SECRET_C)\n",
    "\n",
    "    # Date à laquelle vous souhaitez récupérer le prix au format 'YYYY-MM-DD'\n",
    "    target_date = datetime.strptime(date, '%Y-%m-%d')\n",
    "\n",
    "    price_crypto = dict()\n",
    "    \n",
    "    for symbol in list_crypto:\n",
    "        # Obtenez les données du prix de la crypto à cette date\n",
    "        klines = client.get_historical_klines(symbol+\"USDT\", Client.KLINE_INTERVAL_1DAY, date)\n",
    "        # Parcourez les données et trouvez le prix le plus proche de la date spécifiée\n",
    "\n",
    "        for kline in klines:\n",
    "            timestamp = datetime.fromtimestamp(kline[0] / 1000)\n",
    "            if timestamp.date() == target_date.date():\n",
    "                price_crypto[symbol] = float(kline[4])  # Le prix de clôture se trouve dans l'index 4\n",
    "                break\n",
    "    return price_crypto"
   ]
  },
  {
   "cell_type": "code",
   "execution_count": 1,
   "metadata": {},
   "outputs": [],
   "source": [
    "import json"
   ]
  },
  {
   "cell_type": "code",
   "execution_count": 36,
   "metadata": {},
   "outputs": [
    {
     "name": "stdout",
     "output_type": "stream",
     "text": [
      "{'status': {'credit_count': 0,\n",
      "            'elapsed': 0,\n",
      "            'error_code': 1006,\n",
      "            'error_message': \"Your API Key subscription plan doesn't support \"\n",
      "                             'this endpoint.',\n",
      "            'timestamp': '2023-08-03T18:36:57.607Z'}}\n"
     ]
    }
   ],
   "source": [
    "from requests import Session\n",
    "import json\n",
    "import pprint\n",
    "\n",
    "# def get_crypto_prices(model, date=None): # Function to get the info\n",
    "# if not date:\n",
    "# url = 'https://pro-api.coinmarketcap.com/v2/cryptocurrency/quotes/latest' # Coinmarketcap API url\n",
    "# else:\n",
    "url = 'https://pro-api.coinmarketcap.com/v2/cryptocurrency/quotes/historical' # Coinmarketcap API url\n",
    "    \n",
    "api = '6605bbe1-9a78-423c-964a-b0587763da34' # Replace this with your API key\n",
    "\n",
    "parameters = { 'symbol': 'BTC,ETH,LINK,AVAX,MATIC,ATOM,EGLD,CAPS,UCO,HTR', 'convert': 'USD' } # API parameters to pass in for retrieving specific cryptocurrency data\n",
    "\n",
    "headers = {\n",
    "    'Accepts': 'application/json',\n",
    "    'X-CMC_PRO_API_KEY': api\n",
    "} # Headers for the API request\n",
    "\n",
    "session = Session() # Create new session object to manage API requests\n",
    "session.headers.update(headers) #Update the session headers with the specified headers\n",
    "\n",
    "response = session.get(url, params=parameters,) # Receiving the response from the API\n",
    "# print(response.content)\n",
    "# if response.status_code == 200:\n",
    "#     data = response.json()\n",
    "\n",
    "#     # Extraire les prix de la réponse JSON\n",
    "#     prices = {}\n",
    "#     for crypto_id, crypto_data in data['data'].items():\n",
    "#         price = crypto_data['quotes']['USD']['price']\n",
    "#         prices[crypto_id] = price\n",
    "\n",
    "# print(prices)\n",
    "\n",
    "info = json.loads(response.text)\n",
    "\n",
    "pprint.pprint(info) # Displaying JSON data in a visually pleasing format on the terminal for improved readability"
   ]
  },
  {
   "cell_type": "code",
   "execution_count": 34,
   "metadata": {},
   "outputs": [],
   "source": [
    "if response.status_code == 200:\n",
    "    data = response.json()\n",
    "\n",
    "    # Extraire les prix de la réponse JSON\n",
    "    prices = {}\n",
    "    for crypto_id, crypto_data in data['data'].items():\n",
    "        # print(crypto_data[0])\n",
    "        price = crypto_data[0]['quote']['USD']['price']\n",
    "        prices[crypto_id] = price"
   ]
  },
  {
   "cell_type": "code",
   "execution_count": 35,
   "metadata": {},
   "outputs": [
    {
     "data": {
      "text/plain": [
       "{'ATOM': 8.69059136490408,\n",
       " 'AVAX': 12.526843940257628,\n",
       " 'BTC': 29182.276403464188,\n",
       " 'CAPS': 0.015558161313994057,\n",
       " 'EGLD': 31.35386839337463,\n",
       " 'ETH': 1842.4260366829435,\n",
       " 'HTR': 0.04621712665799409,\n",
       " 'LINK': 7.204845266817989,\n",
       " 'MATIC': 0.6769181266596768,\n",
       " 'UCO': 0.0597116297295029}"
      ]
     },
     "execution_count": 35,
     "metadata": {},
     "output_type": "execute_result"
    }
   ],
   "source": [
    "prices"
   ]
  },
  {
   "cell_type": "code",
   "execution_count": 37,
   "metadata": {},
   "outputs": [
    {
     "name": "stdout",
     "output_type": "stream",
     "text": [
      "{'bestMatches': [{'1. symbol': 'TSCO.LON', '2. name': 'Tesco PLC', '3. type': 'Equity', '4. region': 'United Kingdom', '5. marketOpen': '08:00', '6. marketClose': '16:30', '7. timezone': 'UTC+01', '8. currency': 'GBX', '9. matchScore': '0.7273'}, {'1. symbol': 'TSCDF', '2. name': 'Tesco plc', '3. type': 'Equity', '4. region': 'United States', '5. marketOpen': '09:30', '6. marketClose': '16:00', '7. timezone': 'UTC-04', '8. currency': 'USD', '9. matchScore': '0.7143'}, {'1. symbol': 'TSCDY', '2. name': 'Tesco plc', '3. type': 'Equity', '4. region': 'United States', '5. marketOpen': '09:30', '6. marketClose': '16:00', '7. timezone': 'UTC-04', '8. currency': 'USD', '9. matchScore': '0.7143'}, {'1. symbol': 'TCO2.FRK', '2. name': 'TESCO PLC ADR/1 LS-05', '3. type': 'Equity', '4. region': 'Frankfurt', '5. marketOpen': '08:00', '6. marketClose': '20:00', '7. timezone': 'UTC+02', '8. currency': 'EUR', '9. matchScore': '0.5455'}, {'1. symbol': 'TCO0.FRK', '2. name': 'TESCO PLC LS-0633333', '3. type': 'Equity', '4. region': 'Frankfurt', '5. marketOpen': '08:00', '6. marketClose': '20:00', '7. timezone': 'UTC+02', '8. currency': 'EUR', '9. matchScore': '0.5455'}]}\n"
     ]
    }
   ],
   "source": [
    "import requests\n",
    "\n",
    "# replace the \"demo\" apikey below with your own key from https://www.alphavantage.co/support/#api-key\n",
    "api = '423OIP767ARSVKNP'\n",
    "url = 'https://www.alphavantage.co/query?function=SYMBOL_SEARCH&keywords=tesco&apikey=demo'\n",
    "r = requests.get(url)\n",
    "data = r.json()\n",
    "\n",
    "print(data)"
   ]
  },
  {
   "cell_type": "code",
   "execution_count": 27,
   "metadata": {},
   "outputs": [],
   "source": [
    "import requests\n",
    "import pandas as pd\n",
    "\n",
    "def get_daily_data(api_key, symbol):\n",
    "    QUOTE = dict()\n",
    "    for symb in symbol:\n",
    "\n",
    "        api_endpoint = f\"https://www.alphavantage.co/query?function=GLOBAL_QUOTE&symbol={symb}&apikey={api_key}\"\n",
    "        print(api_endpoint)\n",
    "        response = requests.get(api_endpoint)\n",
    "        print(response)\n",
    "        if response.status_code == 200:\n",
    "            data = response.json()\n",
    "            print(data)\n",
    "            # Extract the time series data from the response (assuming it's in 'Time Series (Daily)')\n",
    "            QUOTE[symb] = float(data.get(\"Global Quote\", {})['05. price'])\n",
    "            \n",
    "    return QUOTE\n"
   ]
  },
  {
   "cell_type": "code",
   "execution_count": 30,
   "metadata": {},
   "outputs": [
    {
     "ename": "ImproperlyConfigured",
     "evalue": "Requested setting USE_TZ, but settings are not configured. You must either define the environment variable DJANGO_SETTINGS_MODULE or call settings.configure() before accessing settings.",
     "output_type": "error",
     "traceback": [
      "\u001b[1;31m---------------------------------------------------------------------------\u001b[0m",
      "\u001b[1;31mImproperlyConfigured\u001b[0m                      Traceback (most recent call last)",
      "Cell \u001b[1;32mIn[30], line 3\u001b[0m\n\u001b[0;32m      1\u001b[0m \u001b[39mfrom\u001b[39;00m \u001b[39mdjango\u001b[39;00m\u001b[39m.\u001b[39;00m\u001b[39mutils\u001b[39;00m \u001b[39mimport\u001b[39;00m timezone\n\u001b[1;32m----> 3\u001b[0m data \u001b[39m=\u001b[39m timezone\u001b[39m.\u001b[39mnow()\n\u001b[0;32m      4\u001b[0m data\n",
      "File \u001b[1;32mc:\\Users\\tco\\Anaconda3\\envs\\Portfolio\\Lib\\site-packages\\django\\utils\\timezone.py:239\u001b[0m, in \u001b[0;36mnow\u001b[1;34m()\u001b[0m\n\u001b[0;32m    235\u001b[0m \u001b[39mdef\u001b[39;00m \u001b[39mnow\u001b[39m():\n\u001b[0;32m    236\u001b[0m \u001b[39m    \u001b[39m\u001b[39m\"\"\"\u001b[39;00m\n\u001b[0;32m    237\u001b[0m \u001b[39m    Return an aware or naive datetime.datetime, depending on settings.USE_TZ.\u001b[39;00m\n\u001b[0;32m    238\u001b[0m \u001b[39m    \"\"\"\u001b[39;00m\n\u001b[1;32m--> 239\u001b[0m     \u001b[39mreturn\u001b[39;00m datetime\u001b[39m.\u001b[39mnow(tz\u001b[39m=\u001b[39mtimezone\u001b[39m.\u001b[39mutc \u001b[39mif\u001b[39;00m settings\u001b[39m.\u001b[39mUSE_TZ \u001b[39melse\u001b[39;00m \u001b[39mNone\u001b[39;00m)\n",
      "File \u001b[1;32mc:\\Users\\tco\\Anaconda3\\envs\\Portfolio\\Lib\\site-packages\\django\\conf\\__init__.py:92\u001b[0m, in \u001b[0;36mLazySettings.__getattr__\u001b[1;34m(self, name)\u001b[0m\n\u001b[0;32m     90\u001b[0m \u001b[39m\u001b[39m\u001b[39m\"\"\"Return the value of a setting and cache it in self.__dict__.\"\"\"\u001b[39;00m\n\u001b[0;32m     91\u001b[0m \u001b[39mif\u001b[39;00m (_wrapped \u001b[39m:=\u001b[39m \u001b[39mself\u001b[39m\u001b[39m.\u001b[39m_wrapped) \u001b[39mis\u001b[39;00m empty:\n\u001b[1;32m---> 92\u001b[0m     \u001b[39mself\u001b[39m\u001b[39m.\u001b[39m_setup(name)\n\u001b[0;32m     93\u001b[0m     _wrapped \u001b[39m=\u001b[39m \u001b[39mself\u001b[39m\u001b[39m.\u001b[39m_wrapped\n\u001b[0;32m     94\u001b[0m val \u001b[39m=\u001b[39m \u001b[39mgetattr\u001b[39m(_wrapped, name)\n",
      "File \u001b[1;32mc:\\Users\\tco\\Anaconda3\\envs\\Portfolio\\Lib\\site-packages\\django\\conf\\__init__.py:72\u001b[0m, in \u001b[0;36mLazySettings._setup\u001b[1;34m(self, name)\u001b[0m\n\u001b[0;32m     70\u001b[0m \u001b[39mif\u001b[39;00m \u001b[39mnot\u001b[39;00m settings_module:\n\u001b[0;32m     71\u001b[0m     desc \u001b[39m=\u001b[39m (\u001b[39m\"\u001b[39m\u001b[39msetting \u001b[39m\u001b[39m%s\u001b[39;00m\u001b[39m\"\u001b[39m \u001b[39m%\u001b[39m name) \u001b[39mif\u001b[39;00m name \u001b[39melse\u001b[39;00m \u001b[39m\"\u001b[39m\u001b[39msettings\u001b[39m\u001b[39m\"\u001b[39m\n\u001b[1;32m---> 72\u001b[0m     \u001b[39mraise\u001b[39;00m ImproperlyConfigured(\n\u001b[0;32m     73\u001b[0m         \u001b[39m\"\u001b[39m\u001b[39mRequested \u001b[39m\u001b[39m%s\u001b[39;00m\u001b[39m, but settings are not configured. \u001b[39m\u001b[39m\"\u001b[39m\n\u001b[0;32m     74\u001b[0m         \u001b[39m\"\u001b[39m\u001b[39mYou must either define the environment variable \u001b[39m\u001b[39m%s\u001b[39;00m\u001b[39m \u001b[39m\u001b[39m\"\u001b[39m\n\u001b[0;32m     75\u001b[0m         \u001b[39m\"\u001b[39m\u001b[39mor call settings.configure() before accessing settings.\u001b[39m\u001b[39m\"\u001b[39m\n\u001b[0;32m     76\u001b[0m         \u001b[39m%\u001b[39m (desc, ENVIRONMENT_VARIABLE)\n\u001b[0;32m     77\u001b[0m     )\n\u001b[0;32m     79\u001b[0m \u001b[39mself\u001b[39m\u001b[39m.\u001b[39m_wrapped \u001b[39m=\u001b[39m Settings(settings_module)\n",
      "\u001b[1;31mImproperlyConfigured\u001b[0m: Requested setting USE_TZ, but settings are not configured. You must either define the environment variable DJANGO_SETTINGS_MODULE or call settings.configure() before accessing settings."
     ]
    }
   ],
   "source": [
    "from django.utils import timezone\n",
    "\n",
    "data = timezone.now()\n",
    "data"
   ]
  },
  {
   "cell_type": "code",
   "execution_count": 29,
   "metadata": {},
   "outputs": [
    {
     "name": "stdout",
     "output_type": "stream",
     "text": [
      "https://www.alphavantage.co/query?function=GLOBAL_QUOTE&symbol=ESE.PA&apikey=423OIP767ARSVKNP\n",
      "<Response [200]>\n",
      "{'Global Quote': {'01. symbol': 'ESE.PA', '02. open': '20.3365', '03. high': '20.3854', '04. low': '20.1600', '05. price': '20.2212', '06. volume': '23331', '07. latest trading day': '2023-08-04', '08. previous close': '20.2760', '09. change': '-0.0548', '10. change percent': '-0.2703%'}}\n",
      "https://www.alphavantage.co/query?function=GLOBAL_QUOTE&symbol=PANX.PA&apikey=423OIP767ARSVKNP\n",
      "<Response [200]>\n",
      "{'Global Quote': {'01. symbol': 'PANX.PA', '02. open': '41.0630', '03. high': '41.1890', '04. low': '40.5330', '05. price': '40.7750', '06. volume': '19128', '07. latest trading day': '2023-08-04', '08. previous close': '40.9120', '09. change': '-0.1370', '10. change percent': '-0.3349%'}}\n",
      "{'ESE.PA': '20.2212', 'PANX.PA': '40.7750'}\n",
      "{'ESE.PA': '20.2212', 'PANX.PA': '40.7750'}\n"
     ]
    }
   ],
   "source": [
    "# Replace 'YOUR_API_KEY' and 'YOUR_SYMBOL' with the appropriate values\n",
    "API_KEY = \"423OIP767ARSVKNP\"\n",
    "SYMBOL = [\"ESE.PA\",\"PANX.PA\"]  # e.g., the ETF symbol you want to retrieve\n",
    "\n",
    "# Example usage:\n",
    "daily_data = get_daily_data(API_KEY, SYMBOL)\n",
    "print(daily_data)\n",
    "if daily_data is not None:\n",
    "    print(daily_data)  # Display the first few rows of data"
   ]
  },
  {
   "cell_type": "code",
   "execution_count": null,
   "metadata": {},
   "outputs": [],
   "source": []
  }
 ],
 "metadata": {
  "kernelspec": {
   "display_name": "Portfolio",
   "language": "python",
   "name": "python3"
  },
  "language_info": {
   "codemirror_mode": {
    "name": "ipython",
    "version": 3
   },
   "file_extension": ".py",
   "mimetype": "text/x-python",
   "name": "python",
   "nbconvert_exporter": "python",
   "pygments_lexer": "ipython3",
   "version": "3.11.4"
  },
  "orig_nbformat": 4
 },
 "nbformat": 4,
 "nbformat_minor": 2
}
